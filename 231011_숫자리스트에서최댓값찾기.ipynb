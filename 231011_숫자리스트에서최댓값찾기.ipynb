{
  "nbformat": 4,
  "nbformat_minor": 0,
  "metadata": {
    "colab": {
      "provenance": [],
      "authorship_tag": "ABX9TyNL5skWOHGOggvcXl6g1aK4",
      "include_colab_link": true
    },
    "kernelspec": {
      "name": "python3",
      "display_name": "Python 3"
    },
    "language_info": {
      "name": "python"
    }
  },
  "cells": [
    {
      "cell_type": "markdown",
      "metadata": {
        "id": "view-in-github",
        "colab_type": "text"
      },
      "source": [
        "<a href=\"https://colab.research.google.com/github/Brownieooo/TIL/blob/python_TIL/231011_%EC%88%AB%EC%9E%90%EB%A6%AC%EC%8A%A4%ED%8A%B8%EC%97%90%EC%84%9C%EC%B5%9C%EB%8C%93%EA%B0%92%EC%B0%BE%EA%B8%B0.ipynb\" target=\"_parent\"><img src=\"https://colab.research.google.com/assets/colab-badge.svg\" alt=\"Open In Colab\"/></a>"
      ]
    },
    {
      "cell_type": "code",
      "execution_count": 1,
      "metadata": {
        "colab": {
          "base_uri": "https://localhost:8080/"
        },
        "id": "ZwEnpslKL2rA",
        "outputId": "fe0e07a8-6669-410e-9895-5fe5ecc320c8"
      },
      "outputs": [
        {
          "output_type": "stream",
          "name": "stdout",
          "text": [
            "숫자 리스트를 공백으로 구분하여 입력해주세요:6 3 7\n",
            "[6, 3, 7]\n"
          ]
        },
        {
          "output_type": "execute_result",
          "data": {
            "text/plain": [
              "list"
            ]
          },
          "metadata": {},
          "execution_count": 1
        }
      ],
      "source": [
        "#인풋 리스트 형태로 여러개 받아서 최댓값 찾아서 출력! for문으로…. 더 크면 기억해 놓는 식으로~\n",
        "#number_str=[]\n",
        "#number_str=input(\"숫자 리스트를 공백으로 구분하여 입력해주세요:\")\n",
        "number_str=list(map(int,input(\"숫자 리스트를 공백으로 구분하여 입력해주세요:\").split()))\n",
        "#number_str.int\n",
        "print(number_str)\n",
        "\n",
        "\n",
        "#number_list=[]\n",
        "#number_list.append(number_str)"
      ]
    },
    {
      "cell_type": "code",
      "source": [
        "user_input_number_list=list(map(int,input(\"숫자 리스트를 공백으로 구분하여 입력해주세요:\").split()))\n",
        "largest=user_input_number_list[0]\n",
        "\n",
        "for i in user_input_number_list:\n",
        "  if i > largest:\n",
        "    largest=i\n",
        "  else:\n",
        "    largest=largest\n",
        "\n",
        "print(largest)\n"
      ],
      "metadata": {
        "colab": {
          "base_uri": "https://localhost:8080/"
        },
        "id": "OjVqn3-yNP-2",
        "outputId": "b3ea2f64-f123-467b-c414-d32eb8d15573"
      },
      "execution_count": 7,
      "outputs": [
        {
          "output_type": "stream",
          "name": "stdout",
          "text": [
            "숫자 리스트를 공백으로 구분하여 입력해주세요:7 1 0 3 9\n",
            "9\n"
          ]
        }
      ]
    }
  ]
}